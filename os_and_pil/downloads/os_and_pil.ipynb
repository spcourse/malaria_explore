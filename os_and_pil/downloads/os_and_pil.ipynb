{
 "cells": [
  {
   "cell_type": "markdown",
   "id": "64c170cd-ab33-421a-90bb-49725a6889fa",
   "metadata": {
    "deletable": false,
    "editable": false,
    "nbgrader": {
     "cell_type": "markdown",
     "checksum": "f4d403e412cfccb1c205f99a1ce649b1",
     "grade": false,
     "grade_id": "cell-6aee49233680df82",
     "locked": true,
     "schema_version": 3,
     "solution": false,
     "task": false
    }
   },
   "source": [
    "# OS & PIL\n",
    "\n",
    "In this notebook we'll briefly introduce two useful libraries for working with image data sets, namely `os` for working with multiple files, and `PIL` for processing images. For this we'll use a subset of the plankton data from the Kaggle Data Science Bowl, where scientists provided over 30,000 grayscale images of plankton and identified them as one of 121 species."
   ]
  },
  {
   "cell_type": "code",
   "execution_count": null,
   "id": "822cf0fd",
   "metadata": {
    "deletable": false,
    "editable": false,
    "nbgrader": {
     "cell_type": "code",
     "checksum": "81fc97e4061038d15dc22791bf2989e5",
     "grade": false,
     "grade_id": "cell-c734fb75b72f4a86",
     "locked": true,
     "schema_version": 3,
     "solution": false,
     "task": false
    }
   },
   "outputs": [],
   "source": [
    "import os\n",
    "\n",
    "from PIL import Image, ImageDraw\n",
    "from notebook_checker import start_checks\n",
    "\n",
    "# Start automatic globals checks\n",
    "%start_checks"
   ]
  },
  {
   "cell_type": "markdown",
   "id": "9b8a7e7a-db78-4bc7-bc1b-e74c03c04ff8",
   "metadata": {
    "deletable": false,
    "editable": false,
    "nbgrader": {
     "cell_type": "markdown",
     "checksum": "ecb683fd062a3f44c8109070985dc711",
     "grade": false,
     "grade_id": "cell-5fb701b0785496b4",
     "locked": true,
     "schema_version": 3,
     "solution": false,
     "task": false
    }
   },
   "source": [
    "# An introduction to the `os` module\n",
    "\n",
    "In data science and machine learning, managing data files and directories is a fundamental skill. For example, looping through all the files in some data set is a very common operation, and the `os` module provides the basic tools to do this with.\n",
    "\n",
    "A common issue is that code must be useable on different operating systems, where the underlying file system might have a completely different structure. For example, on Windows a file path might look like `C:\\Users\\name\\Documents\\test.txt` , whereas or Mac or Linux, it will look something like `/home/name/Documents/test.txt` . Note the different overall structure and the different slashes used to separate folders.\n",
    "\n",
    "Whether you're working on Windows, Mac, or Linux, `os` provides the same unified interface to the underlying file system. You can use `os` to perform tasks like navigating the file system, reading file properties, managing directories, etcetera. For now, the basic functions in the `os` module are:\n",
    "\n",
    "[`os.listdir(path)`](https://docs.python.org/3/library/os.html#os.listdir) - Returns a list containing the names of all the files and folders in the directory given by `path`. This is the Python equivalent of typing the command `ls` in your terminal.\n",
    "\n",
    "[`os.path.isdir(path)`](https://docs.python.org/3/library/os.path.html#os.path.isdir) - Returns `True` if the `path` is an existing directory.\n",
    "\n",
    "[`os.path.isfile(path)`](https://docs.python.org/3/library/os.path.html#os.path.isfile) - Returns `True` if the `path` is an existing regular file.\n",
    "\n",
    "[`os.path.join(path, *paths)`](https://docs.python.org/3/library/os.path.html#os.path.join) - Joins one or more `path` components intelligently. You can give this function any number of `path` strings, and it will join them together to one complete new `path`.\n",
    "\n",
    "This last function is extremely useful when nagivating through multiple folders, as it will also adapt its result based on the Operating System your machine is running (which is what OS stands for). For example: `os.path.join('plankton', 'amphipods')` will give you the string `'plankton/amphipods'` on a Mac, but `plankton\\amphipods` on a Windows machine.\n",
    "\n",
    "We will use these functions to examine and check the structure of our dataset."
   ]
  },
  {
   "cell_type": "markdown",
   "id": "ef80b4af",
   "metadata": {
    "deletable": false,
    "editable": false,
    "nbgrader": {
     "cell_type": "markdown",
     "checksum": "704322d802e300037842cc13115cef31",
     "grade": false,
     "grade_id": "cell-5ac39c5ee5aeb05b",
     "locked": true,
     "schema_version": 3,
     "solution": false,
     "task": false
    }
   },
   "source": [
    "## Preliminary analysis\n",
    "\n",
    "Before you do any coding on a large collection of files, it is always a good idea to inspect the files and folders manually. That way, you can better interpret the results you get back from you code. Open up the folder `plankton` on you computer, and take a look at some of these images and the folder's structure."
   ]
  },
  {
   "cell_type": "markdown",
   "id": "88f26d68",
   "metadata": {
    "deletable": false,
    "editable": false,
    "nbgrader": {
     "cell_type": "markdown",
     "checksum": "0aa71e2a8617789a6e772d1cf0dc77ad",
     "grade": false,
     "grade_id": "cell-1fafbdee77b69c6b",
     "locked": true,
     "schema_version": 3,
     "solution": false,
     "task": false
    }
   },
   "source": [
    "**Q1. Describe the structure of the `plankton` folder and list anything that stands out.**"
   ]
  },
  {
   "cell_type": "markdown",
   "id": "90296929-3bcb-4f0f-9af8-dd7d70baf495",
   "metadata": {
    "deletable": false,
    "nbgrader": {
     "cell_type": "markdown",
     "checksum": "499c133cdeb44cb28e241bc72a84ce8a",
     "grade": true,
     "grade_id": "cell-9112e91da673a24e",
     "locked": false,
     "points": 0,
     "schema_version": 3,
     "solution": true,
     "task": false
    }
   },
   "source": [
    "*Your answer goes here.*"
   ]
  },
  {
   "cell_type": "markdown",
   "id": "55557bf6",
   "metadata": {
    "deletable": false,
    "editable": false,
    "nbgrader": {
     "cell_type": "markdown",
     "checksum": "b955bbb409f9fb4be6b20a3a70d1d3a4",
     "grade": false,
     "grade_id": "cell-13fccefe27870915",
     "locked": true,
     "schema_version": 3,
     "solution": false,
     "task": false
    }
   },
   "source": [
    "## Listing folders\n",
    "\n",
    "Write a function `list_folders(directory)` that accepts a `directory` and returns a list of all folders within that `directory`. Use `os.listdir` to get the contents of the `directory`. Then, loop and use `os.path.join` and then `os.path.isdir` to make sure that each of the elements returned by `os.listdir` is actually a folder. Finally, return a list of all elements that are a folder.\n",
    "\n",
    "You should end up with 121 different folders; one for each of the 121 different classes within the dataset."
   ]
  },
  {
   "cell_type": "code",
   "execution_count": null,
   "id": "2f762279",
   "metadata": {
    "deletable": false,
    "nbgrader": {
     "cell_type": "code",
     "checksum": "1938f09fe7da02ca0945d3065318e8ed",
     "grade": true,
     "grade_id": "cell-4ceb56d88bcc67e0",
     "locked": false,
     "points": 0,
     "schema_version": 3,
     "solution": true,
     "task": false
    }
   },
   "outputs": [],
   "source": [
    "def list_folders(directory):\n",
    "    # YOUR CODE HERE\n",
    "\n",
    "main_directory = 'plankton'\n",
    "classes = list_folders(main_directory)\n",
    "N = 5\n",
    "\n",
    "print(f'In total, the directory {main_directory} contains {len(classes)} classes. The first {N} of these classes are: \\n{classes[:N]}')"
   ]
  },
  {
   "cell_type": "markdown",
   "id": "d386201e",
   "metadata": {
    "deletable": false,
    "editable": false,
    "nbgrader": {
     "cell_type": "markdown",
     "checksum": "0c728e347e5a12343913a82ab26e146b",
     "grade": false,
     "grade_id": "cell-8a5fb055e5c7cab2",
     "locked": true,
     "schema_version": 3,
     "solution": false,
     "task": false
    }
   },
   "source": [
    "## Counting files in a folder\n",
    "\n",
    "In your quick analysis of content of the `plankton` folder you might have noticed that the number of images for each class isn't always equal. Write the function `count_files(directory)`. This function should accept a `directory` and count the number of files that are inside this directory. This function should be very similar to your previous function.\n",
    "\n",
    "Check your code by manually comparing the resulting number of images with the number of images in each of the example folders."
   ]
  },
  {
   "cell_type": "code",
   "execution_count": null,
   "id": "e6397389-ddfa-4841-9613-81994840913d",
   "metadata": {
    "deletable": false,
    "nbgrader": {
     "cell_type": "code",
     "checksum": "771361f854f3f54f60922abacbb02bf7",
     "grade": true,
     "grade_id": "cell-fe87572389c0dc18",
     "locked": false,
     "points": 0,
     "schema_version": 3,
     "solution": true,
     "task": false
    }
   },
   "outputs": [],
   "source": [
    "def count_files(directory):\n",
    "    # YOUR CODE HERE\n",
    "\n",
    "    \n",
    "for species in classes[:N]:\n",
    "    species_directory = os.path.join(main_directory, species)\n",
    "    species_image_count = count_files(species_directory)\n",
    "    \n",
    "    print(f'The directory {species_directory} contains {species_image_count} images.')"
   ]
  },
  {
   "cell_type": "markdown",
   "id": "8f4f0b1a",
   "metadata": {
    "deletable": false,
    "editable": false,
    "nbgrader": {
     "cell_type": "markdown",
     "checksum": "7c9e641952324c2d34245ee5519af7e7",
     "grade": false,
     "grade_id": "cell-f88bd46467257f24",
     "locked": true,
     "schema_version": 3,
     "solution": false,
     "task": false
    }
   },
   "source": [
    "## `os.walk`\n",
    "\n",
    "The most powerfull of the all the OS functions is `os.walk`, as it can traverse all the folders inside some folder, and then the folders inside those folders, and so on. In this case our data set is simple enough that we probably would not need to use `os.walk` to navigate it, but it is a lifesaver for complex data sets with many nested folders.\n",
    "\n",
    "The function [`os.walk`](https://docs.python.org/3/library/os.html#os.walk) will step through every folder inside a path. At each step, the function returns 3 things:\n",
    "\n",
    "* `dirpath` The path to the folder you are currently in at this step. This tells you how to get from the top folder to the current folder for this step.\n",
    "* `dirnames` A list of all the folders that are inside this folder.\n",
    "* `filenames` A list of all the files that are inside this folder.\n",
    "\n",
    "Take a look at the example below, which combines a lot of the features from the two functions above, in just a few lines:"
   ]
  },
  {
   "cell_type": "code",
   "execution_count": null,
   "id": "3c54fc2e-77b6-4e65-9546-1ec4d34dd470",
   "metadata": {
    "deletable": false,
    "editable": false,
    "nbgrader": {
     "cell_type": "code",
     "checksum": "a102fc790fdf35e63a245a341f023f86",
     "grade": false,
     "grade_id": "cell-631232cc6293f0fe",
     "locked": true,
     "schema_version": 3,
     "solution": false,
     "task": false
    }
   },
   "outputs": [],
   "source": [
    "count = 0\n",
    "\n",
    "for (dirpath, dirnames, filenames) in os.walk(main_directory):\n",
    "    print(f'Visiting: {dirpath}, which has {len(dirnames)} folders and {len(filenames)} files.')\n",
    "    count += 1\n",
    "\n",
    "print(f'\\nUsing os.walk, {count} directories were visited.')"
   ]
  },
  {
   "cell_type": "markdown",
   "id": "4b79a654-65df-4427-8fce-b362ecc22d9d",
   "metadata": {
    "deletable": false,
    "editable": false,
    "nbgrader": {
     "cell_type": "markdown",
     "checksum": "d09cc35fab48673346b26fe4dbfbd56a",
     "grade": false,
     "grade_id": "cell-8ce09bf78bdcd718",
     "locked": true,
     "schema_version": 3,
     "solution": false,
     "task": false
    }
   },
   "source": [
    "## Finding all imagepaths using `os.walk`\n",
    "\n",
    "Using `os.walk`, write a function `find_images(directory)` that finds all images within a `directory`. The function should return a list of the paths to each of the images in all of the folders. Each image path in this list should be the complete path from the `directory`, and so should also include the class folder. The results should look something like: `'plankton/<class_name>/<number>.jpg'` on Mac or Linux, and `'plankton\\<class_name>\\<number>.jpg'` on Windows.\n",
    "\n",
    "**Hint:** You can check if some file is an image by checking the extension of the file! In our case, all images have the `'.jpg'` extension."
   ]
  },
  {
   "cell_type": "code",
   "execution_count": null,
   "id": "4efa6f0e",
   "metadata": {
    "deletable": false,
    "nbgrader": {
     "cell_type": "code",
     "checksum": "8bba78d5ae0f5d3f52455a59eeec1870",
     "grade": true,
     "grade_id": "cell-3c9ec713a9c67c1a",
     "locked": false,
     "points": 0,
     "schema_version": 3,
     "solution": true,
     "task": false
    }
   },
   "outputs": [],
   "source": [
    "def find_images(directory):\n",
    "    # YOUR CODE HERE\n",
    "\n",
    "image_paths = find_images(main_directory)\n",
    "M = 5\n",
    "\n",
    "print(f'The first {M} image paths are:')\n",
    "for image_path in image_paths[:M]:\n",
    "    print(f'- {image_path}')\n",
    "\n",
    "print(f'\\nThe total number of images is: {len(image_paths)}')"
   ]
  },
  {
   "cell_type": "markdown",
   "id": "b23a9861",
   "metadata": {
    "deletable": false,
    "editable": false,
    "nbgrader": {
     "cell_type": "markdown",
     "checksum": "bfd1f82447aad5376cc30de4a5dd8554",
     "grade": false,
     "grade_id": "cell-323149c6f26d0c6b",
     "locked": true,
     "schema_version": 3,
     "solution": false,
     "task": false
    }
   },
   "source": [
    "# An introduction to the `PIL` module\n",
    "\n",
    "We will display images using the Python Imaging Library (`PIL`). This library adds support for opening, manipulating, and saving most image file formats. Using this library simplifies loading and displaying the images from our dataset, and enables us to modify them if needed.\n",
    "\n",
    "In the cell below, you will find an example of how `PIL` can be used to display a single image. "
   ]
  },
  {
   "cell_type": "code",
   "execution_count": null,
   "id": "c86b8fbd",
   "metadata": {
    "deletable": false,
    "editable": false,
    "nbgrader": {
     "cell_type": "code",
     "checksum": "1c827b72d088dfbba4ae411dee0cc12a",
     "grade": false,
     "grade_id": "cell-4e2fc0923bb37db0",
     "locked": true,
     "schema_version": 3,
     "solution": false,
     "task": false
    }
   },
   "outputs": [],
   "source": [
    "image_index = 3000\n",
    "image_path = image_paths[image_index]\n",
    "\n",
    "print(image_path)\n",
    "\n",
    "plankton_image = Image.open(image_path)\n",
    "display(plankton_image)"
   ]
  },
  {
   "cell_type": "markdown",
   "id": "9a86cba7",
   "metadata": {
    "deletable": false,
    "editable": false,
    "nbgrader": {
     "cell_type": "markdown",
     "checksum": "42d09a076cd375b6bbb9582aed71b767",
     "grade": false,
     "grade_id": "cell-84fe5a5aa82559a9",
     "locked": true,
     "schema_version": 3,
     "solution": false,
     "task": false
    }
   },
   "source": [
    "We can then use `PIL` to perform some common image operations, like\n",
    "\n",
    "- [`Image.rotate(angle)`](https://pillow.readthedocs.io/en/stable/reference/Image.html#PIL.Image.Image.rotate): Rotate the image by `angle` degrees and return the new image.\n",
    "- [`Image.resize(size)`](https://pillow.readthedocs.io/en/stable/reference/Image.html#PIL.Image.Image.resize): Resize the image to the shape defined by the tuple `size` and return the new image.\n",
    "- [`Image.crop(box)`](https://pillow.readthedocs.io/en/stable/reference/Image.html#PIL.Image.Image.crop): Crop (cut out) part of the image defined by the rectangle `box` and return the new image.\n",
    "- [`Image.copy()`](https://pillow.readthedocs.io/en/stable/reference/Image.html#PIL.Image.Image.copy): Create a copy of the image and return the new image.\n",
    "\n",
    "For example, the code below resizes the selected image to 400 by 400 pixels, and then rotates the result 270 degrees."
   ]
  },
  {
   "cell_type": "code",
   "execution_count": null,
   "id": "59bae4f4",
   "metadata": {
    "deletable": false,
    "editable": false,
    "nbgrader": {
     "cell_type": "code",
     "checksum": "ea5f9a9db024c7c4687f366f31b3f661",
     "grade": false,
     "grade_id": "cell-ae2ada5b2316e0e4",
     "locked": true,
     "schema_version": 3,
     "solution": false,
     "task": false
    }
   },
   "outputs": [],
   "source": [
    "scaled_image = plankton_image.resize((400, 400))\n",
    "rotated_image = scaled_image.rotate(270)\n",
    "\n",
    "display(rotated_image)"
   ]
  },
  {
   "cell_type": "markdown",
   "id": "c54a3d89",
   "metadata": {
    "deletable": false,
    "editable": false,
    "nbgrader": {
     "cell_type": "markdown",
     "checksum": "cd1775aaa65d87a162f7bdd2cf894e25",
     "grade": false,
     "grade_id": "cell-b8145c65327c4402",
     "locked": true,
     "schema_version": 3,
     "solution": false,
     "task": false
    }
   },
   "source": [
    "By using [`ImageDraw`](https://pillow.readthedocs.io/en/stable/reference/ImageDraw.html), we can also draw basic shapes on the image using `PIL`. Most of the shapes for `Imagedraw` use a *bounding box* to place the shape. This should be a rectangle (*box*) that fits around the edges (*bounds*) of the shape. Bounding boxes are defined as a list of coordinates like:\n",
    "\n",
    "    [x0, y0, x1, y1]  or  [(x0, y0), (x1, y1)]\n",
    "\n",
    "where the coordinate $(0, 0)$ is always the top left corner of the image, and $x_0 <= x_1$ and $y_0 <= y_1$. This means `(x0, y0)` should be the top left coordinate of the bounding box, and `(x1, y1)` should be the bottom right coordinate. Some of the most common `ImageDraw` functions that use bounding boxes (reffered to as `xy`) are:\n",
    "\n",
    "- [`ImageDraw.rectangle(xy)`](https://pillow.readthedocs.io/en/stable/reference/ImageDraw.html#PIL.ImageDraw.ImageDraw.rectangle): Draw the rectangle defined by the bounding box `xy`.\n",
    "- [`ImageDraw.ellipse(xy)`](https://pillow.readthedocs.io/en/stable/reference/ImageDraw.html#PIL.ImageDraw.ImageDraw.ellipse): Draw the ellipse inside the bounding box `xy`. Note that if the bounding box is a square, the result will be a circle.\n",
    "- [`ImageDraw.line(xy)`](https://pillow.readthedocs.io/en/stable/reference/ImageDraw.html#PIL.ImageDraw.ImageDraw.line): Draw a line from the first coordinate to the second coordinate in the bounding box `xy`.\n",
    "- [`ImageDraw.arc(xy, start, end)`](https://pillow.readthedocs.io/en/stable/reference/ImageDraw.html#PIL.ImageDraw.ImageDraw.arc): Draw an arc by only drawing part of an ellipse, which is defined by the bounding box `xy`. Starting from the 3 o'clock position moving clockwise, only draw the ellipse from `start` angle (in degrees) until `end` angle.\n",
    "\n",
    "These shapes can be used to highlight important parts of an image, or we can even use `ImageDraw` to add some clarifying text in the image. For now, we'll just briefly experiment with the usage of some of these draw functions. \n",
    "\n",
    "**Draw a face on the plankton of your choice, using at least 3 different shapes.**\n",
    "\n",
    "*Note: These plankton images are grayscale, so you can only draw on them in black and white. If you wish to draw in color, you can replace the `rotated_image.copy()` with a call to [`Image.convert(mode)`](https://pillow.readthedocs.io/en/stable/reference/Image.html#PIL.Image.Image.convert) and convert the image to `'RGB'` first.*"
   ]
  },
  {
   "cell_type": "code",
   "execution_count": null,
   "id": "f212cff6",
   "metadata": {
    "deletable": false,
    "nbgrader": {
     "cell_type": "code",
     "checksum": "376643636acbb016733122eeb391a75d",
     "grade": true,
     "grade_id": "cell-bf4677651ee39963",
     "locked": false,
     "points": 0,
     "schema_version": 3,
     "solution": true,
     "task": false
    }
   },
   "outputs": [],
   "source": [
    "# Make a copy to preserve the original image\n",
    "drawing_image = rotated_image.copy()\n",
    "\n",
    "# Create an ImageDraw that can be used to edit the image\n",
    "image_canvas = ImageDraw.Draw(drawing_image)\n",
    "\n",
    "# YOUR CODE HERE\n",
    "\n",
    "# ImageDraw modifies the input image, so display the modified copy\n",
    "display(drawing_image)"
   ]
  }
 ],
 "metadata": {
  "kernelspec": {
   "display_name": "Python 3 (ipykernel)",
   "language": "python",
   "name": "python3"
  },
  "language_info": {
   "codemirror_mode": {
    "name": "ipython",
    "version": 3
   },
   "file_extension": ".py",
   "mimetype": "text/x-python",
   "name": "python",
   "nbconvert_exporter": "python",
   "pygments_lexer": "ipython3",
   "version": "3.12.3"
  }
 },
 "nbformat": 4,
 "nbformat_minor": 5
}
