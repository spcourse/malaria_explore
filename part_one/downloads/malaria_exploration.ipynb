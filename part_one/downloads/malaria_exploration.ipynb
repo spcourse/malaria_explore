{
 "cells": [
  {
   "cell_type": "markdown",
   "id": "d00121c0-949e-4786-bf5d-6b73f541e454",
   "metadata": {
    "deletable": false,
    "editable": false,
    "nbgrader": {
     "cell_type": "markdown",
     "checksum": "ffb766d5839654b3fd1ac673f4b3fbae",
     "grade": false,
     "grade_id": "cell-7a0104c567626c2f",
     "locked": true,
     "schema_version": 3,
     "solution": false,
     "task": false
    }
   },
   "source": [
    "# Exploration and analysis\n",
    "\n",
    "In this exercise, you will explore and analyze a dataset containing images of Plasmodium vivax (P. vivax) infected blood smears. Plasmodium vivax is one of the parasites responsible for malaria, a disease that affects millions of people worldwide and causes over 400,000 deaths a year. The ability to accurately identify infected blood smears is crucial for the diagnosis and treatment of malaria.\n",
    "\n",
    "### The dataset\n",
    "\n",
    "> For malaria as well as other microbial infections, manual inspection of thick and thin blood smears by trained microscopists remains the gold standard for parasite detection and stage determination because of its low reagent and instrument cost and high flexibility. Despite manual inspection being extremely low throughput and susceptible to human bias, automatic counting software remains largely unused because of the wide range of variations in brightfield microscopy images. However, a robust automatic counting and cell classification solution would provide enormous benefits due to faster and more accurate quantitative results without human variability; researchers and medical professionals could better characterize stage-specific drug targets and better quantify patient reactions to drugs. [SOURCE](https://bbbc.broadinstitute.org/BBBC041/)\n",
    "\n",
    "This dataset contains 1,328 images of blood smears featuring approximately 80,000 cells. Each image was prepared by one of three research centers, resulting in slight variations in picture quality (color, exposure, brightness, etc.). Cells within these images were annotated by hand with a class label and a set of bounding box coordinates. The data consists of two classes of uninfected cells (red blood cells and leukocytes) and four classes of infected cells (gametocytes, rings, trophozoites, and schizonts). Annotators were permitted to mark some cells as difficult if they did not clearly belong to one of the cell classes.\n",
    "\n",
    "**Download the dataset [here](https://data.broadinstitute.org/bbbc/BBBC041/malaria.zip) and extract all files to a directory named `/malaria` within the same directory as this notebook.** _This download is approximately 2.2GB, so make sure your computer has enough space and is connected to a stable and fast internet connection!_"
   ]
  },
  {
   "cell_type": "code",
   "execution_count": null,
   "id": "0415d188-82d5-4690-84da-71899d8ed7de",
   "metadata": {
    "deletable": false,
    "editable": false,
    "nbgrader": {
     "cell_type": "code",
     "checksum": "1375a80f8cdcb170e9975f3e6301dd03",
     "grade": false,
     "grade_id": "cell-3e12a5bfed5d443c",
     "locked": true,
     "schema_version": 3,
     "solution": false,
     "task": false
    }
   },
   "outputs": [],
   "source": [
    "import os\n",
    "import json\n",
    "\n",
    "import pandas as pd\n",
    "import matplotlib.pyplot as plt\n",
    "import seaborn as sns\n",
    "\n",
    "from PIL import Image, ImageDraw\n",
    "from notebook_checker import start_checks\n",
    "\n",
    "# Start automatic globals checks\n",
    "%start_checks\n",
    "\n",
    "def image_formatter(image):\n",
    "    \"\"\"\n",
    "    Formatter method that makes sure that images don't get displayed bigger than 400x300.\n",
    "    Assumes that the aspect ratio is 3:4.\n",
    "    \"\"\"\n",
    "    width = min(image.width, 400)\n",
    "    height = min(image.height, 300)\n",
    "    \n",
    "    return image.resize((width, height))._repr_png_()\n",
    "\n",
    "# Get the formatters for png and jpeg, and overwrite them for PIL Image instances to decrease notebook size ~tenfold~\n",
    "im_form_png = get_ipython().display_formatter.formatters['image/png']\n",
    "im_form_png.for_type(Image.Image, image_formatter)\n",
    "\n",
    "# We don't need both png and jpeg formats to be stored in the ipynb file, so we set jpeg to return None\n",
    "im_form_jpeg = get_ipython().display_formatter.formatters['image/jpeg']\n",
    "im_form_jpeg.for_type(Image.Image, lambda image: None)"
   ]
  },
  {
   "cell_type": "markdown",
   "id": "91643d69",
   "metadata": {
    "deletable": false,
    "editable": false,
    "nbgrader": {
     "cell_type": "markdown",
     "checksum": "8b4d51c382b4ea771fe2c48c890fe52d",
     "grade": false,
     "grade_id": "cell-ac345128f6b505d1",
     "locked": true,
     "schema_version": 3,
     "solution": false,
     "task": false
    }
   },
   "source": [
    "# Goals for data exploration\n",
    "\n",
    "When doing data exploration, you're usually trying to do several things at once, namely\n",
    "\n",
    "1. Understand what the data is about and how it is structured\n",
    "\n",
    "2. Try to get the data in more usuable format for further processing / programming\n",
    "\n",
    "3. Look for notable things that standout, that might be worth investigating further\n",
    "\n",
    "So, you're processing the data a little further with each step, while also trying to understand how it is structured. During this process, you should always be on the lookout for results that standout. Such results can have very different possible causes, like:\n",
    "\n",
    "* Outliers or even mislabeled data\n",
    "\n",
    "* Errors you made in your code to handle the data\n",
    "\n",
    "* Incorrect assumptions about the structure of the data\n",
    "\n",
    "* Interesting patterns in the data you might want to investigate further\n",
    "\n",
    "This means you should check your work at each step, and make sure you understand the results you get. If you don't understand a result, you should always investigate further. Ideally, you'd make a quick sanity check at each step, to confirm your results, which is what we'll try and do in this notebook.\n",
    "\n",
    "## Preliminary analysis\n",
    "\n",
    "Before you do any coding on a large collection of files, it is always a good idea to inspect the files and folders manually. That way, you can better interpret the results you get back from you code. Open up the folder `malaria` on you computer, and take a look at some of these images and the folder's structure."
   ]
  },
  {
   "cell_type": "markdown",
   "id": "e47ef1e3-c99b-4d1f-ac12-9363fdc4c22c",
   "metadata": {
    "deletable": false,
    "editable": false,
    "nbgrader": {
     "cell_type": "markdown",
     "checksum": "a73a764114fb2b39cadda7a190cca41b",
     "grade": false,
     "grade_id": "cell-ac64a4a59c8b2e59",
     "locked": true,
     "schema_version": 3,
     "solution": false,
     "task": false
    }
   },
   "source": [
    "**Q1. Describe the structure of the `malaria` folder and list anything that stands out.**"
   ]
  },
  {
   "cell_type": "markdown",
   "id": "747ba8fd-6c70-4ef1-b355-1c9e75adddbc",
   "metadata": {
    "deletable": false,
    "nbgrader": {
     "cell_type": "markdown",
     "checksum": "f281179450010d0fdda0cc0310b7c840",
     "grade": true,
     "grade_id": "cell-621670a5f738880b",
     "locked": false,
     "points": 0,
     "schema_version": 3,
     "solution": true,
     "task": false
    }
   },
   "source": [
    "*Your answer goes here.*"
   ]
  },
  {
   "cell_type": "markdown",
   "id": "5c92a0a6-18d5-4f01-9c53-c6529fbf4d13",
   "metadata": {
    "deletable": false,
    "editable": false,
    "nbgrader": {
     "cell_type": "markdown",
     "checksum": "4ebb941659d1655e131b836b5aa8adc9",
     "grade": false,
     "grade_id": "cell-9d66885ed63d6a26",
     "locked": true,
     "schema_version": 3,
     "solution": false,
     "task": false
    }
   },
   "source": [
    "### Counting files in each folder\n",
    "\n",
    "Let's start by doing something simple that we can also verify manually; counting the number of files in a folder. You can reuse your `count_files()` function from the `os` introduction for this.\n",
    "\n",
    "Check your function with the examples provided below. _Does the malaria directory contain 2 files, and do we get the expected number of images?_"
   ]
  },
  {
   "cell_type": "code",
   "execution_count": null,
   "id": "5f37d720-f48a-4a11-a5db-d031dce281e9",
   "metadata": {
    "deletable": false,
    "nbgrader": {
     "cell_type": "code",
     "checksum": "b37590f948b48f4231b9d7ce8302c80c",
     "grade": true,
     "grade_id": "cell-6a5c95285d3f00cf",
     "locked": false,
     "points": 0,
     "schema_version": 3,
     "solution": true,
     "task": false
    }
   },
   "outputs": [],
   "source": [
    "def count_files(directory):\n",
    "    # YOUR CODE HERE\n",
    "\n",
    "data_dir = 'malaria'\n",
    "print(f\"The {data_dir} directory contains {count_files(data_dir)} files.\")\n",
    "\n",
    "image_dir = os.path.join(data_dir, 'images')\n",
    "print(f\"The {image_dir} directory contains {count_files(image_dir)} images.\")"
   ]
  },
  {
   "cell_type": "markdown",
   "id": "fe06f8fe",
   "metadata": {
    "deletable": false,
    "editable": false,
    "nbgrader": {
     "cell_type": "markdown",
     "checksum": "16a5a5f17610de0ab7f7f1cd862c3454",
     "grade": false,
     "grade_id": "cell-35a862e45d01b7b6",
     "locked": true,
     "schema_version": 3,
     "solution": false,
     "task": false
    }
   },
   "source": [
    "**Q2. Does this result make sense to you? What did you compare this result against to check it is correct?**"
   ]
  },
  {
   "cell_type": "markdown",
   "id": "2729506e-1014-439c-b8f0-9d89cde85715",
   "metadata": {
    "deletable": false,
    "nbgrader": {
     "cell_type": "markdown",
     "checksum": "6380d6de60180b2ed07937acbbcbd743",
     "grade": true,
     "grade_id": "cell-5d419ac7530a99ab",
     "locked": false,
     "points": 0,
     "schema_version": 3,
     "solution": true,
     "task": false
    }
   },
   "source": [
    "*Your answer goes here.*"
   ]
  },
  {
   "cell_type": "markdown",
   "id": "b09fb8bc-3e9a-4f6b-ad2a-35d1c7f2150b",
   "metadata": {
    "deletable": false,
    "editable": false,
    "nbgrader": {
     "cell_type": "markdown",
     "checksum": "15b9fab45cf3860d40f777e0ba9728c7",
     "grade": false,
     "grade_id": "cell-cd12f63ad0c86517",
     "locked": true,
     "schema_version": 3,
     "solution": false,
     "task": false
    }
   },
   "source": [
    "## Loading the data\n",
    "\n",
    "Now that we’ve confirmed the directory structure and confirmed that all images are present, let’s load the data from the JSON files. As we have already discovered, the dataset is split into a training and a test set. We'll start by loading these sets and inspecting their sizes to get an overview of the dataset.\n",
    "\n",
    "In the cell below, load the 'training.json' and 'test.json' files using `json.load`."
   ]
  },
  {
   "cell_type": "code",
   "execution_count": null,
   "id": "51b3318f",
   "metadata": {
    "deletable": false,
    "nbgrader": {
     "cell_type": "code",
     "checksum": "3ce0e96a27865b2df5235871e17e9c69",
     "grade": true,
     "grade_id": "cell-046104a852c0699d",
     "locked": false,
     "points": 0,
     "schema_version": 3,
     "solution": true,
     "task": false
    }
   },
   "outputs": [],
   "source": [
    "# YOUR CODE HERE\n",
    "\n",
    "print(f'Number of training records: {len(train)}')\n",
    "print(f'Number of test records: {len(test)}')"
   ]
  },
  {
   "cell_type": "markdown",
   "id": "bb09f745",
   "metadata": {
    "deletable": false,
    "editable": false,
    "nbgrader": {
     "cell_type": "markdown",
     "checksum": "1ec850ed1e1a7c2bbc4e4ed25e6b2f78",
     "grade": false,
     "grade_id": "cell-62f43c5fd287a3c0",
     "locked": true,
     "schema_version": 3,
     "solution": false,
     "task": false
    }
   },
   "source": [
    "**Q3. Does this result make sense to you? What did you compare this result against to check it is correct?**"
   ]
  },
  {
   "cell_type": "markdown",
   "id": "472510ab-2d10-4699-b8a3-61817610b796",
   "metadata": {
    "deletable": false,
    "nbgrader": {
     "cell_type": "markdown",
     "checksum": "4a8b872c1983c1c0d5eb970c21ff7d19",
     "grade": true,
     "grade_id": "cell-67350db9af499314",
     "locked": false,
     "points": 0,
     "schema_version": 3,
     "solution": true,
     "task": false
    }
   },
   "source": [
    "*Your answer goes here.*"
   ]
  },
  {
   "cell_type": "markdown",
   "id": "ea6c8152-a2f0-44dc-b374-dc0a62f919e1",
   "metadata": {
    "deletable": false,
    "editable": false,
    "nbgrader": {
     "cell_type": "markdown",
     "checksum": "3a21043a272b0d9471a618deff1e9d90",
     "grade": false,
     "grade_id": "cell-efac68bb841e33ae",
     "locked": true,
     "schema_version": 3,
     "solution": false,
     "task": false
    }
   },
   "source": [
    "### Inspecting the JSON\n",
    "\n",
    "Next, before we load the entire dataset into pandas, let's take a look at one of these JSON entries to get a better idea of what information we are going to be working with:"
   ]
  },
  {
   "cell_type": "code",
   "execution_count": null,
   "id": "d1ba262d",
   "metadata": {
    "deletable": false,
    "editable": false,
    "nbgrader": {
     "cell_type": "code",
     "checksum": "73f8632d7d9c05d5512fdb9490c21558",
     "grade": false,
     "grade_id": "cell-2717272df6dd72ed",
     "locked": true,
     "schema_version": 3,
     "solution": false,
     "task": false
    }
   },
   "outputs": [],
   "source": [
    "# Print the first record from the training set\n",
    "train[0]"
   ]
  },
  {
   "cell_type": "markdown",
   "id": "f7ca8855-2de2-425f-83fa-8c137f51fde5",
   "metadata": {
    "deletable": false,
    "editable": false,
    "nbgrader": {
     "cell_type": "markdown",
     "checksum": "607f9ecce91729d133deb620ed5fe537",
     "grade": false,
     "grade_id": "cell-0d384925419c493c",
     "locked": true,
     "schema_version": 3,
     "solution": false,
     "task": false
    }
   },
   "source": [
    "Let's break down the structure of the entries:\n",
    "- **image**: This section contains metadata about the image.\n",
    "  - **checksum**: A value that can be used to check the image was downloaded correctly.\n",
    "  - **pathname**: The file path to the image.\n",
    "  - **shape**: The dimensions of the image.\n",
    "    - **r**: Number of rows (height of the image).\n",
    "    - **c**: Number of columns (width of the image).\n",
    "    - **channels**: Number of color channels (3 for RGB images, 1 if the image is black and white).\n",
    "- **objects**: This is a list of objects (cells) that were detected in the image. For each detected object, we have a bounding box and a category.\n",
    "  - **bounding_box**: The coordinates of the bounding box surrounding the object. _A bounding box is a rectangular box that can be drawn around an object in an image to define its spatial location._\n",
    "    - **minimum**: The top-left corner of the bounding box.\n",
    "      - **r**: Row coordinate of the top-left corner.\n",
    "      - **c**: Column coordinate of the top-left corner.\n",
    "    - **maximum**: The bottom-right corner of the bounding box.\n",
    "      - **r**: Row coordinate of the bottom-right corner.\n",
    "      - **c**: Column coordinate of the bottom-right corner.\n",
    "  - **category**: The category or type of the object (e.g., 'red blood cell').\n",
    " \n",
    "That is a lot of information! "
   ]
  },
  {
   "cell_type": "markdown",
   "id": "97eaaddf-81d9-4a4b-8773-e4de02c6d7b0",
   "metadata": {
    "deletable": false,
    "editable": false,
    "nbgrader": {
     "cell_type": "markdown",
     "checksum": "fde125a661a817317385872eaad27664",
     "grade": false,
     "grade_id": "cell-63c52fb3a57aac0a",
     "locked": true,
     "schema_version": 3,
     "solution": false,
     "task": false
    }
   },
   "source": [
    "### Converting to a `DataFrame`\n",
    "\n",
    "Now that we have a basic understanding of the dataset's structure, let's proceed by transforming it into a `DataFrame`. By using *Pandas* here, we can explore, filter, or further analyze our data more easily and efficiently. Pandas provides many functions for data wrangling and analysis, which will help us quickly get a better understanding of our dataset.\n",
    "\n",
    "Convert the train JSON to a `DataFrame` using [`pd.json_normalize()`](https://pandas.pydata.org/docs/reference/api/pandas.json_normalize.html). Read the documentation of this function to see how to use it."
   ]
  },
  {
   "cell_type": "code",
   "execution_count": null,
   "id": "135d11e2",
   "metadata": {
    "deletable": false,
    "nbgrader": {
     "cell_type": "code",
     "checksum": "e8fa41c86b6fd027afd107a6dee38cff",
     "grade": true,
     "grade_id": "cell-2d339295bab7a881",
     "locked": false,
     "points": 0,
     "schema_version": 3,
     "solution": true,
     "task": false
    }
   },
   "outputs": [],
   "source": [
    "# YOUR CODE HERE\n",
    "\n",
    "display(df_train)"
   ]
  },
  {
   "cell_type": "markdown",
   "id": "b4c99f90",
   "metadata": {
    "deletable": false,
    "editable": false,
    "nbgrader": {
     "cell_type": "markdown",
     "checksum": "c208de09691c51bf9a97a787f971e3f1",
     "grade": false,
     "grade_id": "cell-db71731f57bc1f75",
     "locked": true,
     "schema_version": 3,
     "solution": false,
     "task": false
    }
   },
   "source": [
    "**Q4. Does this result make sense to you? What did you compare this result against to check it is correct?**"
   ]
  },
  {
   "cell_type": "markdown",
   "id": "7a2f8e91-502f-4d7c-84af-5ee96eb84e0f",
   "metadata": {
    "deletable": false,
    "nbgrader": {
     "cell_type": "markdown",
     "checksum": "1d1fdf55dbfa85a15ed9be3f1e86de3f",
     "grade": true,
     "grade_id": "cell-c7c85fb96039aadc",
     "locked": false,
     "points": 0,
     "schema_version": 3,
     "solution": true,
     "task": false
    }
   },
   "source": [
    "*Your answer goes here.*"
   ]
  },
  {
   "cell_type": "markdown",
   "id": "f9637616-26e5-4b51-a657-fcaab174f2e5",
   "metadata": {
    "deletable": false,
    "editable": false,
    "nbgrader": {
     "cell_type": "markdown",
     "checksum": "95f5574af4a4cff9ff8b8b0cbb9440f7",
     "grade": false,
     "grade_id": "cell-02ca2ac115fd8a01",
     "locked": true,
     "schema_version": 3,
     "solution": false,
     "task": false
    }
   },
   "source": [
    "*Hint: Look at the number of rows and columns in the resulting DataFrame.*"
   ]
  },
  {
   "cell_type": "markdown",
   "id": "21c2db5a-a325-4db1-bba5-bd7537fd1a9f",
   "metadata": {
    "deletable": false,
    "editable": false,
    "nbgrader": {
     "cell_type": "markdown",
     "checksum": "00732b6297b28c3534dcd02bf228cac7",
     "grade": false,
     "grade_id": "cell-6e4734d0d691dd6f",
     "locked": true,
     "schema_version": 3,
     "solution": false,
     "task": false
    }
   },
   "source": [
    "## Unpacking the data further\n",
    "\n",
    "Now that we have our data loaded in a `DataFrame`, we can use *Pandas* to quickly take a look at some statistics. The cell below uses *Pandas* `describe()` to provide us with some information about the numeric columns in our data."
   ]
  },
  {
   "cell_type": "code",
   "execution_count": null,
   "id": "817e0ddd",
   "metadata": {
    "deletable": false,
    "editable": false,
    "nbgrader": {
     "cell_type": "code",
     "checksum": "7cc36e1fa20fb9bcf425ccca7380493d",
     "grade": false,
     "grade_id": "cell-3e773a144c0cf187",
     "locked": true,
     "schema_version": 3,
     "solution": false,
     "task": false
    }
   },
   "outputs": [],
   "source": [
    "df_train.describe()"
   ]
  },
  {
   "cell_type": "markdown",
   "id": "83ab6aa5",
   "metadata": {
    "deletable": false,
    "editable": false,
    "nbgrader": {
     "cell_type": "markdown",
     "checksum": "5a6044162610f7e1747aa5b170719449",
     "grade": false,
     "grade_id": "cell-b038d369d75a524d",
     "locked": true,
     "schema_version": 3,
     "solution": false,
     "task": false
    }
   },
   "source": [
    "**Q5. What do these statistics say about the shapes and channels for each image?**"
   ]
  },
  {
   "cell_type": "markdown",
   "id": "f1e5a4e8-ab8f-46c0-9943-026595965879",
   "metadata": {
    "deletable": false,
    "nbgrader": {
     "cell_type": "markdown",
     "checksum": "138331f4f5c86435f2a06f2042ccd6ef",
     "grade": true,
     "grade_id": "cell-ac4872988e75592a",
     "locked": false,
     "points": 0,
     "schema_version": 3,
     "solution": true,
     "task": false
    }
   },
   "source": [
    "*Your answer goes here.*"
   ]
  },
  {
   "cell_type": "markdown",
   "id": "587b237a-3572-4912-bcc4-e19cebedc17e",
   "metadata": {
    "deletable": false,
    "editable": false,
    "nbgrader": {
     "cell_type": "markdown",
     "checksum": "686b21e51fb1352aa0f902c3f30f5156",
     "grade": false,
     "grade_id": "cell-83be7bc940c544f2",
     "locked": true,
     "schema_version": 3,
     "solution": false,
     "task": false
    }
   },
   "source": [
    "### Cleaning up the DataFrame\n",
    "\n",
    "Now we know some of the data actually isn't very useful, so it can be removed from the `DataFrame`. Remove all 3 columns for the image shape, and also the image checksum, as we won't be needing it. The resulting `DataFrame` should have 2 columns left: the objects list and the path to the image."
   ]
  },
  {
   "cell_type": "code",
   "execution_count": null,
   "id": "ded40aef-64d7-4903-8573-9a3c00a6eb4f",
   "metadata": {
    "deletable": false,
    "nbgrader": {
     "cell_type": "code",
     "checksum": "bdc10434a99c97ccb38fc5b03db0bf54",
     "grade": true,
     "grade_id": "cell-b9e0d09f8e080d28",
     "locked": false,
     "points": 0,
     "schema_version": 3,
     "solution": true,
     "task": false
    }
   },
   "outputs": [],
   "source": [
    "# YOUR CODE HERE\n",
    "\n",
    "display(df_train_clean)"
   ]
  },
  {
   "cell_type": "markdown",
   "id": "ab155cfb-ed12-4f6c-8970-f55dcb74422a",
   "metadata": {
    "deletable": false,
    "editable": false,
    "nbgrader": {
     "cell_type": "markdown",
     "checksum": "14231b5be683c0e6f3db8c6fd01835ed",
     "grade": false,
     "grade_id": "cell-b6732ee19c92beb6",
     "locked": true,
     "schema_version": 3,
     "solution": false,
     "task": false
    }
   },
   "source": [
    "### Exploding the bounding boxes\n",
    "\n",
    "The next step in processing the data should be unpacking the bounding boxes, which is currently still just a list of JSON objects. As this is a list of items inside each `DataFrame` row, the easiest way to do this is to use [`explode()`](https://pandas.pydata.org/docs/reference/api/pandas.DataFrame.explode.html). Apply `explode()` on the *objects* column and inspect the results."
   ]
  },
  {
   "cell_type": "code",
   "execution_count": null,
   "id": "b78354ff",
   "metadata": {
    "deletable": false,
    "nbgrader": {
     "cell_type": "code",
     "checksum": "eb171bfac39b6010f1577e11adf9d731",
     "grade": true,
     "grade_id": "cell-eb55bc43c2e52354",
     "locked": false,
     "points": 0,
     "schema_version": 3,
     "solution": true,
     "task": false
    }
   },
   "outputs": [],
   "source": [
    "# YOUR CODE HERE\n",
    "\n",
    "display(df_train_exploded)"
   ]
  },
  {
   "cell_type": "markdown",
   "id": "41edbcd1",
   "metadata": {
    "deletable": false,
    "editable": false,
    "nbgrader": {
     "cell_type": "markdown",
     "checksum": "770144195d8d241278e54ab225cf76b9",
     "grade": false,
     "grade_id": "cell-c33db8451ad20a6b",
     "locked": true,
     "schema_version": 3,
     "solution": false,
     "task": false
    }
   },
   "source": [
    "Now, each row in the *objects* column should contain one JSON object, which we can split into separate `DataFrame` columns again using [`pd.json_normalize()`](https://pandas.pydata.org/docs/reference/api/pandas.json_normalize.html). Apply `json_normalize()` on the exploded *objects* column and inspect the results."
   ]
  },
  {
   "cell_type": "code",
   "execution_count": null,
   "id": "ffb299ca",
   "metadata": {
    "deletable": false,
    "nbgrader": {
     "cell_type": "code",
     "checksum": "9c9898f1cb4b19ad978261b544bc44ec",
     "grade": true,
     "grade_id": "cell-33e0eb9f30271ba0",
     "locked": false,
     "points": 0,
     "schema_version": 3,
     "solution": true,
     "task": false
    }
   },
   "outputs": [],
   "source": [
    "# YOUR CODE HERE\n",
    "\n",
    "display(df_bounding_box)"
   ]
  },
  {
   "cell_type": "markdown",
   "id": "13821abb",
   "metadata": {
    "deletable": false,
    "editable": false,
    "nbgrader": {
     "cell_type": "markdown",
     "checksum": "69749ab09223abe170845b7c041f2c86",
     "grade": false,
     "grade_id": "cell-12f9ad4f67672bdf",
     "locked": true,
     "schema_version": 3,
     "solution": false,
     "task": false
    }
   },
   "source": [
    "Next, we will recombine the image paths with this new bounding box dataframe, so it is clear which image each bounding box belongs to. \n",
    "\n",
    "If you want to combine `DataFrames`, their *indices* must always match, but the original exploded dataframe has indices from 0 to 1207, while the bounding box dataframe has indices 0 to 80112. Before we can continue with the recombination of the dataframes, you should use [`reset_index()`](https://pandas.pydata.org/docs/reference/api/pandas.DataFrame.reset_index.html) to change any index to run from 0 to the number of rows."
   ]
  },
  {
   "cell_type": "code",
   "execution_count": null,
   "id": "672b85b0",
   "metadata": {
    "deletable": false,
    "nbgrader": {
     "cell_type": "code",
     "checksum": "a464001962a0a91cec8958a9bef06eb9",
     "grade": true,
     "grade_id": "cell-ec6ead162870c748",
     "locked": false,
     "points": 0,
     "schema_version": 3,
     "solution": true,
     "task": false
    }
   },
   "outputs": [],
   "source": [
    "# YOUR CODE HERE\n",
    "\n",
    "display(df_exploded_reindexed)"
   ]
  },
  {
   "cell_type": "markdown",
   "id": "068e9559",
   "metadata": {
    "deletable": false,
    "editable": false,
    "nbgrader": {
     "cell_type": "markdown",
     "checksum": "4f02dcbff4341608f596073444c6cb42",
     "grade": false,
     "grade_id": "cell-bab9ab949f110fff",
     "locked": true,
     "schema_version": 3,
     "solution": false,
     "task": false
    }
   },
   "source": [
    "Note that indices now run from 0 to 80112, and there is now a new column called *index*, which has the old index for each row. This information will be useful to keep in the dataframe, as it can be used to identify which image a bounding box belongs to. \n",
    "\n",
    "Find a way to combine this reindexed dataframe with the bounding boxes dataframe into a single dataframe, but remove the *objects* column from the results, as that information is already stored in bounding box dataframe. "
   ]
  },
  {
   "cell_type": "code",
   "execution_count": null,
   "id": "4cf28800-1b2b-4b16-8795-4bf6ed359839",
   "metadata": {
    "deletable": false,
    "nbgrader": {
     "cell_type": "code",
     "checksum": "6b60590f946b747f1cd528f6e6c33da3",
     "grade": true,
     "grade_id": "cell-8c451396d13b5f6c",
     "locked": false,
     "points": 0,
     "schema_version": 3,
     "solution": true,
     "task": false
    }
   },
   "outputs": [],
   "source": [
    "# YOUR CODE HERE\n",
    "\n",
    "display(df_train_merged)"
   ]
  },
  {
   "cell_type": "markdown",
   "id": "43359b62-9016-42ba-aa6e-28e9199b1d65",
   "metadata": {
    "deletable": false,
    "editable": false,
    "nbgrader": {
     "cell_type": "markdown",
     "checksum": "26b36d2e47c5ff395eca5ff25c6cd8c2",
     "grade": false,
     "grade_id": "cell-960f96651fe6de11",
     "locked": true,
     "schema_version": 3,
     "solution": false,
     "task": false
    }
   },
   "source": [
    "_Your resulting dataframe should have 7 columns._\n",
    "\n",
    "### Cleaning up further\n",
    "\n",
    "Now we finally have all the JSON information into a fully normalized `DataFrame`, but it's a little hard to read, partially because the column names are so long. Here we'll do a last clean up step to get everything a bit more readable.\n",
    "\n",
    "Write a function `replace_column_name(name)` that takes a column name and returns a new string, which should be a bit shorter and more readable. The function should make the following replacements:\n",
    "\n",
    "- `'index'` should become `'img.id'`\n",
    "- `'image'` should become `'img'`\n",
    "- `'pathname'` should become `'path'`\n",
    "- `'bounding_box'` should become `'bb'`\n",
    "- `'minimum'` should become `'min'`\n",
    "- `'maximum'` should become `'max'`\n"
   ]
  },
  {
   "cell_type": "code",
   "execution_count": null,
   "id": "72d97303",
   "metadata": {
    "deletable": false,
    "nbgrader": {
     "cell_type": "code",
     "checksum": "7f3e73ff46b73ebba2eee0fad1a70f73",
     "grade": true,
     "grade_id": "cell-cb6e775e1e32253d",
     "locked": false,
     "points": 0,
     "schema_version": 3,
     "solution": true,
     "task": false
    }
   },
   "outputs": [],
   "source": [
    "def replace_column_name(name):\n",
    "    # YOUR CODE HERE\n",
    "\n",
    "# First test, should print bb.min.r \n",
    "print(replace_column_name('bounding_box.min.r'))\n",
    "\n",
    "# Second test, should print img.id \n",
    "print(replace_column_name('index'))\n",
    "\n",
    "# Third test, should print category\n",
    "print(replace_column_name('category'))"
   ]
  },
  {
   "cell_type": "markdown",
   "id": "793e80b1",
   "metadata": {
    "deletable": false,
    "editable": false,
    "nbgrader": {
     "cell_type": "markdown",
     "checksum": "b89feac3052da1d46ac613f329fea677",
     "grade": false,
     "grade_id": "cell-cc062b0caeb34565",
     "locked": true,
     "schema_version": 3,
     "solution": false,
     "task": false
    }
   },
   "source": [
    "Now, find a way in *Pandas* to use this `replace_column_name()` function to actually rename all the columns in the `DataFrame`."
   ]
  },
  {
   "cell_type": "code",
   "execution_count": null,
   "id": "e917021d",
   "metadata": {
    "deletable": false,
    "nbgrader": {
     "cell_type": "code",
     "checksum": "932884dbd08408a9cc36e7b4df195366",
     "grade": true,
     "grade_id": "cell-28d2df93cc5f60d2",
     "locked": false,
     "points": 0,
     "schema_version": 3,
     "solution": true,
     "task": false
    }
   },
   "outputs": [],
   "source": [
    "# YOUR CODE HERE\n",
    "\n",
    "display(df_train_merged)"
   ]
  },
  {
   "cell_type": "markdown",
   "id": "14e25620",
   "metadata": {
    "deletable": false,
    "editable": false,
    "nbgrader": {
     "cell_type": "markdown",
     "checksum": "e91eb157d204262741681c497ed9bf56",
     "grade": false,
     "grade_id": "cell-880917407a575dfd",
     "locked": true,
     "schema_version": 3,
     "solution": false,
     "task": false
    }
   },
   "source": [
    "Lastly, all the image paths start with `'/images/'` to indicate they are in the images folder. However, this is the same for every image, and uses `/` to separate folders, so this would only work on Mac or Linux as a filepath! To fix this, you should remove the string `'/images/'` at the start of each path, keeping only the filename after the second `/` and store the result back into the *img.path* column."
   ]
  },
  {
   "cell_type": "code",
   "execution_count": null,
   "id": "47d84a1a",
   "metadata": {
    "deletable": false,
    "nbgrader": {
     "cell_type": "code",
     "checksum": "e430376e690a4df3cc7cf06eef31e203",
     "grade": true,
     "grade_id": "cell-1336de0159eac11a",
     "locked": false,
     "points": 0,
     "schema_version": 3,
     "solution": true,
     "task": false
    }
   },
   "outputs": [],
   "source": [
    "# YOUR CODE HERE\n",
    "\n",
    "display(df_train_merged)"
   ]
  },
  {
   "cell_type": "markdown",
   "id": "fed1e177-7776-4a1c-bcf4-a9bed1749297",
   "metadata": {
    "deletable": false,
    "editable": false,
    "nbgrader": {
     "cell_type": "markdown",
     "checksum": "be9f10d9e08edc33c11d8c767588e06e",
     "grade": false,
     "grade_id": "cell-2534c080701e79db",
     "locked": true,
     "schema_version": 3,
     "solution": false,
     "task": false
    }
   },
   "source": [
    "## Showing images\n",
    "\n",
    "Now that we’ve loaded all the data into pandas, let’s take a closer look at the images themselves. Visualizing a few of the images can give us valuable insights into the data we’ll be analyzing, such as the quality of the images, the appearance of the cells, and any visible patterns that might help us interpret the dataset.\n",
    "\n",
    "Use `os.path.join()` to construct a path from the current directory to the image file. The result should look something like `malaria/images/8d02117d-6c71-4e47-b50a-6cc8d5eb1d55.png` if you're on Mac or Linux, and like `malaria\\images\\8d02117d-6c71-4e47-b50a-6cc8d5eb1d55.png` if you're on Windows instead. Next, use `Image.open()` from the `PIL` library to read in the image using that path, and then display the result. You can change the `image_index` to other integers between 0 and 80112 to view different files."
   ]
  },
  {
   "cell_type": "code",
   "execution_count": null,
   "id": "8004c900",
   "metadata": {
    "deletable": false,
    "nbgrader": {
     "cell_type": "code",
     "checksum": "192ef4096ab75c250c7356ea78048548",
     "grade": true,
     "grade_id": "cell-d39b40ccbd8e2b1a",
     "locked": false,
     "points": 0,
     "schema_version": 3,
     "solution": true,
     "task": false
    }
   },
   "outputs": [],
   "source": [
    "image_index = 0\n",
    "image_file = df_train_merged['img.path'].loc[image_index]\n",
    "print(image_file)\n",
    "\n",
    "# YOUR CODE HERE\n",
    "\n",
    "display(img)"
   ]
  },
  {
   "cell_type": "markdown",
   "id": "549820cb",
   "metadata": {
    "deletable": false,
    "editable": false,
    "nbgrader": {
     "cell_type": "markdown",
     "checksum": "d8a96dd854df43dcca96369a5b744e27",
     "grade": false,
     "grade_id": "cell-90ccc91007325cb2",
     "locked": true,
     "schema_version": 3,
     "solution": false,
     "task": false
    }
   },
   "source": [
    "### Showing a specific cell\n",
    "\n",
    "Next, it might be interesting to see what just one of the cells looks like. Implement the function `show_specific_cell(cell)` that takes a `Series` describing a cell, finds and loads the corresponding image from the disk, crops that specific cell from that image, and displays it. Remember that, respectively, `'bb.min.c'` and `'bb.min.r'` stand for the _column_ and the _row_ where the bounding box of a cell starts, and that `'bb.max.c'` and `'bb.max.r'` stand for where the bounding box ends. Use `Image.crop(box)` to cut out the relevant part from the image.\n"
   ]
  },
  {
   "cell_type": "code",
   "execution_count": null,
   "id": "cbd554b5",
   "metadata": {
    "deletable": false,
    "nbgrader": {
     "cell_type": "code",
     "checksum": "abf9294c782561bcd0db73ba6a1f79a8",
     "grade": true,
     "grade_id": "cell-aa691da65a3c6f8f",
     "locked": false,
     "points": 0,
     "schema_version": 3,
     "solution": true,
     "task": false
    }
   },
   "outputs": [],
   "source": [
    "def show_specific_cell(cell):\n",
    "    # YOUR CODE HERE\n",
    "\n",
    "cell_index = 0\n",
    "cell = df_train_merged.loc[cell_index]\n",
    "display(cell)\n",
    "\n",
    "show_specific_cell(cell)"
   ]
  },
  {
   "cell_type": "markdown",
   "id": "4e634d7b",
   "metadata": {
    "deletable": false,
    "editable": false,
    "nbgrader": {
     "cell_type": "markdown",
     "checksum": "fb852b98aa922e4d08781dcf0e1b983a",
     "grade": false,
     "grade_id": "cell-754506c510834676",
     "locked": true,
     "schema_version": 3,
     "solution": false,
     "task": false
    }
   },
   "source": [
    "## Showing all bounding boxes\n",
    "\n",
    "Now, write a function `show_image_bbs(df_cells, image_id, colors)` that takes an `image_id` to select a specific image (so a value between 0 and 1207 for the training data), and displays that image, including all of its bounding boxes in `df_cells`. The coloring each of these boxes should indicate which of the different categories that cell is, as describes by the dictionary `colors`. The result should be a single displayed image with many different rectangles drawn on it, some of which should be different colors.\n",
    "\n",
    "**Hint:** Take a look at how you used `ImageDraw` in `os_and_pil.ipynb`! The color of a rectangle can be set through the optional argument `outline`."
   ]
  },
  {
   "cell_type": "code",
   "execution_count": null,
   "id": "eb9c7169",
   "metadata": {
    "deletable": false,
    "nbgrader": {
     "cell_type": "code",
     "checksum": "31c60d5c238d5048d567f31755cebc0a",
     "grade": true,
     "grade_id": "cell-4cfcd48747c09d9f",
     "locked": false,
     "points": 0,
     "schema_version": 3,
     "solution": true,
     "task": false
    }
   },
   "outputs": [],
   "source": [
    "def show_image_bbs(df_cells, image_id, colors):\n",
    "    # YOUR CODE HERE\n",
    "    \n",
    "# Create a colors dictionary using all unique categories and a list of colors\n",
    "colors = dict(zip(df_train_merged.category.unique(),\n",
    "                  ['red', 'green', 'yellow', 'grey', 'blue', 'orange', 'purple']))\n",
    "print(colors)\n",
    "\n",
    "# Show the first image in the training data with all its bounding boxes\n",
    "show_image_bbs(df_train_merged, 0, colors)"
   ]
  },
  {
   "cell_type": "markdown",
   "id": "ad95aaa3",
   "metadata": {
    "deletable": false,
    "editable": false,
    "nbgrader": {
     "cell_type": "markdown",
     "checksum": "d62106a29844d89461ad225018816c61",
     "grade": false,
     "grade_id": "cell-66ec65fb8445e1b8",
     "locked": true,
     "schema_version": 3,
     "solution": false,
     "task": false
    }
   },
   "source": [
    "# Analysis\n",
    "\n",
    "After observing some of the images firsthand, we can start making some hypotheses and asking further questions about this data set, such as:\n",
    "\n",
    "- Are certain categories of cells more common than others?\n",
    "- Does the size and shape of the bounding boxes vary a lot?\n",
    "- How many of the bounding boxes overlap with other bounding boxes?\n",
    "- Do certain categories of cells have unique visual characteristics?\n",
    "- How much do images differ in terms of background noise or visual clarity?\n",
    "\n",
    "In this section of the notebook, we will use a combination of `pandas` and `seaborn` to explore relationships in the data. By visualizing and analyzing various aspects, like cell distributions and bounding box sizes, we aim to ultimately understand the characteristics of each cell type and how they appear across images."
   ]
  },
  {
   "cell_type": "markdown",
   "id": "79b25fc4",
   "metadata": {
    "deletable": false,
    "editable": false,
    "nbgrader": {
     "cell_type": "markdown",
     "checksum": "fb78caf023b778837c5243ee3c4dd027",
     "grade": false,
     "grade_id": "cell-7c48f13790b47a25",
     "locked": true,
     "schema_version": 3,
     "solution": false,
     "task": false
    }
   },
   "source": [
    "## Counting classes\n",
    "\n",
    "Lets start with visually inspecting some of these attributes. Use *Seaborn* to create a plot that displays the frequency of each of the cell types. Your horizontal axis should show the different categories of cells, and your vertical axis the count of each of those categories."
   ]
  },
  {
   "cell_type": "code",
   "execution_count": null,
   "id": "464254b4",
   "metadata": {
    "deletable": false,
    "nbgrader": {
     "cell_type": "code",
     "checksum": "6c2df591c4ca5ad60cb6519cfafff6a0",
     "grade": true,
     "grade_id": "cell-e47bdf8740d614eb",
     "locked": false,
     "points": 0,
     "schema_version": 3,
     "solution": true,
     "task": false
    }
   },
   "outputs": [],
   "source": [
    "# YOUR CODE HERE"
   ]
  },
  {
   "cell_type": "markdown",
   "id": "a8d96594",
   "metadata": {
    "deletable": false,
    "editable": false,
    "nbgrader": {
     "cell_type": "markdown",
     "checksum": "541708670de87fef1ccfbb1c449ceeaf",
     "grade": false,
     "grade_id": "cell-89ecf69239554ceb",
     "locked": true,
     "schema_version": 3,
     "solution": false,
     "task": false
    }
   },
   "source": [
    "As there are so many more red blood cells than any other type, it is hard to read the smaller values in the plot. Use *Pandas* create a `Series` with counts for each of categories and display these exact counts."
   ]
  },
  {
   "cell_type": "code",
   "execution_count": null,
   "id": "f8702b21",
   "metadata": {
    "deletable": false,
    "nbgrader": {
     "cell_type": "code",
     "checksum": "96f9069a9635e11cf2850a02100f2cd7",
     "grade": true,
     "grade_id": "cell-babfa6c6332fe1bd",
     "locked": false,
     "points": 0,
     "schema_version": 3,
     "solution": true,
     "task": false
    }
   },
   "outputs": [],
   "source": [
    "# YOUR CODE HERE"
   ]
  },
  {
   "cell_type": "markdown",
   "id": "77cc80f8",
   "metadata": {
    "deletable": false,
    "editable": false,
    "nbgrader": {
     "cell_type": "markdown",
     "checksum": "f960b764f3ee0dbc69543e45a0817263",
     "grade": false,
     "grade_id": "cell-511f43cc78d99a5a",
     "locked": true,
     "schema_version": 3,
     "solution": false,
     "task": false
    }
   },
   "source": [
    "**Q6. Does this result make sense to you? What did you compare this result against to check it is correct?**"
   ]
  },
  {
   "cell_type": "markdown",
   "id": "a4fdf99b-4a9b-45f7-a7af-05a4381a8639",
   "metadata": {
    "deletable": false,
    "nbgrader": {
     "cell_type": "markdown",
     "checksum": "2197b5d36f9eade73595d5aef4fe0532",
     "grade": true,
     "grade_id": "cell-66960252b4012191",
     "locked": false,
     "points": 0,
     "schema_version": 3,
     "solution": true,
     "task": false
    }
   },
   "source": [
    "*Your answer goes here.*"
   ]
  },
  {
   "cell_type": "markdown",
   "id": "8fd41c1a-42cc-4543-9672-063af9c937da",
   "metadata": {
    "deletable": false,
    "editable": false,
    "nbgrader": {
     "cell_type": "markdown",
     "checksum": "e7fc3c19821eb8a15cdd2982affdb5dc",
     "grade": false,
     "grade_id": "cell-1cde7d09af50dda0",
     "locked": true,
     "schema_version": 3,
     "solution": false,
     "task": false
    }
   },
   "source": [
    "*Hint: There are two healthy cell types, namely red blood cells and leukocytes (white blood cells). Try to find a source online about how many more red blood cells there should be compared to white blood cells in a normal blood sample. So, find out in what ratio these two cell types naturally occur, and compare that to the numbers you're finding here.*"
   ]
  },
  {
   "cell_type": "markdown",
   "id": "d1d217a5-7709-463b-b303-995b710aaaab",
   "metadata": {
    "deletable": false,
    "editable": false,
    "nbgrader": {
     "cell_type": "markdown",
     "checksum": "62178014937d602b08f2ec84f100ca74",
     "grade": false,
     "grade_id": "cell-d6b69d0699f4f312",
     "locked": true,
     "schema_version": 3,
     "solution": false,
     "task": false
    }
   },
   "source": [
    "### Number of cells per image\n",
    "\n",
    "You might have already noticed that the number of cells per image is highly variable. A histogram of the number of cells per image will allow us to see if some images have significantly higher or lower cell counts.\n",
    "\n",
    "Use *Seaborn* to create a histogram that shows the distribution of the number of cells per image. The horizontal axis should show the number of cells, and the vertical axis the amount of times this occured, with both axes clearly labeled. Note that you might need to do one or more *Pandas* operations on the data, before you can actually create this specific plot using *Seaborn*."
   ]
  },
  {
   "cell_type": "code",
   "execution_count": null,
   "id": "c243cba4",
   "metadata": {
    "deletable": false,
    "nbgrader": {
     "cell_type": "code",
     "checksum": "a56b541c8f45b0f9b69b02613a8ce729",
     "grade": true,
     "grade_id": "cell-f96dcd710b3e9915",
     "locked": false,
     "points": 0,
     "schema_version": 3,
     "solution": true,
     "task": false
    }
   },
   "outputs": [],
   "source": [
    "# YOUR CODE HERE"
   ]
  },
  {
   "cell_type": "markdown",
   "id": "a1859e77",
   "metadata": {
    "deletable": false,
    "editable": false,
    "nbgrader": {
     "cell_type": "markdown",
     "checksum": "3f1e1c86d087b10903da69343f9512b0",
     "grade": false,
     "grade_id": "cell-b42e714b80072696",
     "locked": true,
     "schema_version": 3,
     "solution": false,
     "task": false
    }
   },
   "source": [
    "**Q7. Does this result make sense to you? What did you compare this result against to check it is correct?**"
   ]
  },
  {
   "cell_type": "markdown",
   "id": "5ffa297e-eb6a-4d31-8dff-883fea813746",
   "metadata": {
    "deletable": false,
    "nbgrader": {
     "cell_type": "markdown",
     "checksum": "0281b5207461122bfb4159659824f556",
     "grade": true,
     "grade_id": "cell-b16ea42dc862e8cf",
     "locked": false,
     "points": 0,
     "schema_version": 3,
     "solution": true,
     "task": false
    }
   },
   "source": [
    "*Your answer goes here.*"
   ]
  },
  {
   "cell_type": "markdown",
   "id": "be71965d-bdec-450f-bece-fe373a97498d",
   "metadata": {
    "deletable": false,
    "editable": false,
    "nbgrader": {
     "cell_type": "markdown",
     "checksum": "4df12159a707b5b090b6c51e17648383",
     "grade": false,
     "grade_id": "cell-1395d4877b1c7b9e",
     "locked": true,
     "schema_version": 3,
     "solution": false,
     "task": false
    }
   },
   "source": [
    "## Pivoting data\n",
    "\n",
    "As we have already concluded before, red blood cells are by far the most common cells in our images. This observation makes sense, given that red blood cells are the primary component of blood. However, our main interest lies in identifying and analyzing the presence of infected cells, and so it would be useful to know how many of each of the different cell categories there are in each of the different images.\n",
    "\n",
    "For this we can constuct a [`pivot_table()`](https://pandas.pydata.org/docs/reference/api/pandas.pivot_table.html) from our data set. This pivot table should be _indexed_ by the image id, the _columns_ should be the different categories, where the _values_ in the table should _count_ how often each combination occurs. \n",
    "\n",
    "Note that we're only interested in how often each combination occurs, so it doesn't actually matter which value we end up counting, as long as we choose one for the pivot table. Make sure to also set a sensible `fill_value` for combinations that don't occurs using the optional parameter, and use `margins=True` to include a total count for each row and column. This will add an `'All'` row **and** column to your pivot table, showing the total cell count for each image and the total count of each cell type across all images!\n",
    "\n",
    "**Hint:** Take a look at `pandas_advanced.ipynb` for a reference on how `pivot_table` works!"
   ]
  },
  {
   "cell_type": "code",
   "execution_count": null,
   "id": "a19a2019",
   "metadata": {
    "deletable": false,
    "nbgrader": {
     "cell_type": "code",
     "checksum": "c6021f4ea43a951a453cd37cd4ec6d07",
     "grade": true,
     "grade_id": "cell-159df4900ef777d0",
     "locked": false,
     "points": 0,
     "schema_version": 3,
     "solution": true,
     "task": false
    }
   },
   "outputs": [],
   "source": [
    "# YOUR CODE HERE\n",
    "\n",
    "display(df_train_pivoted)"
   ]
  },
  {
   "cell_type": "markdown",
   "id": "7107faf9",
   "metadata": {
    "deletable": false,
    "editable": false,
    "nbgrader": {
     "cell_type": "markdown",
     "checksum": "36b6000631833bdbfa70f15f0d63078a",
     "grade": false,
     "grade_id": "cell-08114ba65ed1d50f",
     "locked": true,
     "schema_version": 3,
     "solution": false,
     "task": false
    }
   },
   "source": [
    "**Q8. Does this result make sense to you? What did you compare this result against to check it is correct?**"
   ]
  },
  {
   "cell_type": "markdown",
   "id": "2793eda6-325a-4b8b-b815-7f3b3541588e",
   "metadata": {
    "deletable": false,
    "nbgrader": {
     "cell_type": "markdown",
     "checksum": "64b9922dac7351e42e207dbf9f004ba8",
     "grade": true,
     "grade_id": "cell-c82dcad0197a313e",
     "locked": false,
     "points": 0,
     "schema_version": 3,
     "solution": true,
     "task": false
    }
   },
   "source": [
    "*Your answer goes here.*"
   ]
  },
  {
   "cell_type": "markdown",
   "id": "7752912b-7103-4c66-851b-fb354d50ff88",
   "metadata": {
    "deletable": false,
    "editable": false,
    "nbgrader": {
     "cell_type": "markdown",
     "checksum": "aba8c8847afc141b24fb3164ef825df7",
     "grade": false,
     "grade_id": "cell-aba77d4065841e6a",
     "locked": true,
     "schema_version": 3,
     "solution": false,
     "task": false
    }
   },
   "source": [
    "### Finding the images with the fewest and the most number of cells\n",
    "\n",
    "As you had probably already seen from your histogram, there are a couple of images with a relatively low or extremely high number of annotated cells.\n",
    "\n",
    "This is very useful, because we can use the `'All'` column in the pivottable to find the image with the lowest number of cells overall and the image with the largest number of cells overall. "
   ]
  },
  {
   "cell_type": "code",
   "execution_count": null,
   "id": "acb398db",
   "metadata": {
    "deletable": false,
    "editable": false,
    "nbgrader": {
     "cell_type": "code",
     "checksum": "b3b9ed30c07602c582756a705bb127e0",
     "grade": false,
     "grade_id": "cell-f1b8a1d8d0a0ee1b",
     "locked": true,
     "schema_version": 3,
     "solution": false,
     "task": false
    }
   },
   "outputs": [],
   "source": [
    "# Find the image where the 'All' column has its lowest value\n",
    "min_cell_id = df_train_pivoted['All'].idxmin()\n",
    "min_cell_count = df_train_pivoted['All'].loc[min_cell_id]\n",
    "\n",
    "# Do the same for the highest value, but drop the 'All' row, as this row has the highest value by definition\n",
    "max_cell_id = df_train_pivoted['All'].drop(index='All').idxmax()\n",
    "max_cell_count = df_train_pivoted['All'].loc[max_cell_id]\n",
    "\n",
    "print(f\"Image with the lowest number of cells is ID {min_cell_id}, which has {min_cell_count} cells\")\n",
    "show_image_bbs(df_train_merged, min_cell_id, colors)\n",
    "\n",
    "print(f\"Image with the largest number of cells is ID {max_cell_id}, which has {max_cell_count} cells\")\n",
    "show_image_bbs(df_train_merged, max_cell_id, colors)\n"
   ]
  },
  {
   "cell_type": "markdown",
   "id": "2028b6cc",
   "metadata": {
    "deletable": false,
    "editable": false,
    "nbgrader": {
     "cell_type": "markdown",
     "checksum": "f4556234f295fbe4d1ba3961645b7f46",
     "grade": false,
     "grade_id": "cell-32f5b37071b9d44c",
     "locked": true,
     "schema_version": 3,
     "solution": false,
     "task": false
    }
   },
   "source": [
    "**Q9. Which of these images do you think is more useful in identifying infected cells? Explain your answer.**"
   ]
  },
  {
   "cell_type": "markdown",
   "id": "a7b19aa8-de00-4868-9fbe-3e2658eeb7fc",
   "metadata": {
    "deletable": false,
    "nbgrader": {
     "cell_type": "markdown",
     "checksum": "767a585990e15a590a7ae230ebe1c0e1",
     "grade": true,
     "grade_id": "cell-111817c1507fd260",
     "locked": false,
     "points": 0,
     "schema_version": 3,
     "solution": true,
     "task": false
    }
   },
   "source": [
    "*Your answer goes here.*"
   ]
  },
  {
   "cell_type": "markdown",
   "id": "0b628063-b9dd-452f-921b-4a8fcafddde1",
   "metadata": {
    "deletable": false,
    "editable": false,
    "nbgrader": {
     "cell_type": "markdown",
     "checksum": "d9e6cb54d2ba6c85fbd2493f0c278e5c",
     "grade": false,
     "grade_id": "cell-a37cac474c0cbcb8",
     "locked": true,
     "schema_version": 3,
     "solution": false,
     "task": false
    }
   },
   "source": [
    "### Most different cell types\n",
    "\n",
    "It might also be interesting to find an image with more varieties of cells. Let's find the image with the highest number of different cell categories!\n",
    "\n",
    "Use your pivot table to identify the image with the most distinct cell types. Display this image using show_image_bbs(), and print the number of unique cell types it contains.\n",
    "\n",
    "**Hint:** You can count how many different cell types are present in each image by converting non-zero counts to *True* or 1, then summing them across each row! Don't forget that you'll want to drop the 'All' row, just like the example in the previous cell."
   ]
  },
  {
   "cell_type": "code",
   "execution_count": null,
   "id": "d5c31311",
   "metadata": {
    "deletable": false,
    "nbgrader": {
     "cell_type": "code",
     "checksum": "9f336f4602ce58f035880659e05ff07c",
     "grade": true,
     "grade_id": "cell-022039138e62d84f",
     "locked": false,
     "points": 0,
     "schema_version": 3,
     "solution": true,
     "task": false
    }
   },
   "outputs": [],
   "source": [
    "# YOUR CODE HERE"
   ]
  },
  {
   "cell_type": "markdown",
   "id": "41e20d2e-726c-487c-a8b1-251fea5e38c5",
   "metadata": {
    "deletable": false,
    "editable": false,
    "nbgrader": {
     "cell_type": "markdown",
     "checksum": "f274d6878c1648e8c2bdfd9adf0c963f",
     "grade": false,
     "grade_id": "cell-b511576e22e1a490",
     "locked": true,
     "schema_version": 3,
     "solution": false,
     "task": false
    }
   },
   "source": [
    "### Counting infections\n",
    "\n",
    "With the pivot table created, we can also easily determine how many images contain infected blood. To do this, we will categorize the images into three distinct groups:\n",
    "\n",
    "1. **Infected**: These are images that contain any of the infected cell types: gametocytes, rings, trophozoites, or schizonts. Identifying these images is crucial as they indicate the presence of malaria.\n",
    "2. **Possibly Infected**: These images contain red blood cells and leukocytes, along with cells labeled as \"difficult.\" The \"difficult\" category might include cells that are challenging to classify and could potentially indicate infection.\n",
    "3. **Uninfected**: These are images that contain only red blood cells and leukocytes. These images represent healthy blood samples.\n",
    "\n",
    "Use *Pandas* to create masks for each of these 3 groups, and then create three separate `DataFrames` to store each group of images: `df_infected`, `df_possibly_infected`, and `df_uninfected`."
   ]
  },
  {
   "cell_type": "code",
   "execution_count": null,
   "id": "ad473b97-9206-475c-ad7c-1b732fca9ad7",
   "metadata": {
    "deletable": false,
    "nbgrader": {
     "cell_type": "code",
     "checksum": "2673243b50223b3bd081277659580f29",
     "grade": true,
     "grade_id": "cell-8883080bb22bf882",
     "locked": false,
     "points": 0,
     "schema_version": 3,
     "solution": true,
     "task": false
    }
   },
   "outputs": [],
   "source": [
    "# YOUR CODE HERE\n",
    "\n",
    "print(f\"Number of images with infected cells: {df_infected.shape[0]}\")\n",
    "print(f\"Number of images with possibly infected cells: {df_possibly_infected.shape[0]}\")\n",
    "print(f\"Number of images with only uninfected cells: {df_uninfected.shape[0]}\")\n",
    "\n",
    "display(df_infected.head())\n",
    "display(df_possibly_infected.head())\n",
    "display(df_uninfected.head())"
   ]
  },
  {
   "cell_type": "markdown",
   "id": "7e07b726",
   "metadata": {
    "deletable": false,
    "editable": false,
    "nbgrader": {
     "cell_type": "markdown",
     "checksum": "32b2ff27ef3f4deb9d2c27caf09fb335",
     "grade": false,
     "grade_id": "cell-f156aec0f5805563",
     "locked": true,
     "schema_version": 3,
     "solution": false,
     "task": false
    }
   },
   "source": [
    "### Bounding box sizes\n",
    "\n",
    "Another useful characteristic we can analyze is the cell dimensions. Fortunately, the bounding boxes in this dataset are closely aligned with the edges of each cell. This allows us to use the bounding boxes to get a fairly accurate approximation of the width and height of a cell. \n",
    "\n",
    "Add three new columns to `df_train_merged`:\n",
    "\n",
    "- `'bb.width'`: Width of each bounding box\n",
    "- `'bb.height'`: Height of each bounding box\n",
    "- `'bb.area'`: Total area of each bounding box (width × height)"
   ]
  },
  {
   "cell_type": "code",
   "execution_count": null,
   "id": "ea368f4a",
   "metadata": {
    "deletable": false,
    "nbgrader": {
     "cell_type": "code",
     "checksum": "410f686aff639f2e16b0d64f57bf7338",
     "grade": true,
     "grade_id": "cell-e78da36e4c1d8bbd",
     "locked": false,
     "points": 0,
     "schema_version": 3,
     "solution": true,
     "task": false
    }
   },
   "outputs": [],
   "source": [
    "# YOUR CODE HERE\n",
    "\n",
    "display(df_train_merged)"
   ]
  },
  {
   "cell_type": "markdown",
   "id": "70eb24c7",
   "metadata": {
    "deletable": false,
    "editable": false,
    "nbgrader": {
     "cell_type": "markdown",
     "checksum": "e77c56764b4e304fdab727e19e0838f5",
     "grade": false,
     "grade_id": "cell-cfe0b0368c05155c",
     "locked": true,
     "schema_version": 3,
     "solution": false,
     "task": false
    }
   },
   "source": [
    "Now that we’ve calculated the dimensions and area of each bounding box, let’s identify the smallest and largest cells in the dataset. Using the `'bb_area'` column, find the cell with the smallest bounding box area and the cell with the largest bounding box area. Print the category and area of these cells, and then display the cells using `show_specific_cell()`."
   ]
  },
  {
   "cell_type": "code",
   "execution_count": null,
   "id": "9a762dd2",
   "metadata": {
    "deletable": false,
    "nbgrader": {
     "cell_type": "code",
     "checksum": "39aaeb81148be3846cfc8c482477e4dd",
     "grade": true,
     "grade_id": "cell-1c0de2e835fd5a63",
     "locked": false,
     "points": 0,
     "schema_version": 3,
     "solution": true,
     "task": false
    }
   },
   "outputs": [],
   "source": [
    "# YOUR CODE HERE"
   ]
  },
  {
   "cell_type": "markdown",
   "id": "2e334758",
   "metadata": {
    "deletable": false,
    "editable": false,
    "nbgrader": {
     "cell_type": "markdown",
     "checksum": "51c081501613d9132cda08c503bd5647",
     "grade": false,
     "grade_id": "cell-cf4edb63b1a25854",
     "locked": true,
     "schema_version": 3,
     "solution": false,
     "task": false
    }
   },
   "source": [
    "### Aggregating data and analyzing categories\n",
    "\n",
    "Bounding box area and aspect ratio might reveal patterns unique to each cell category. For example, some categories of cells may consistently have larger or smaller bounding boxes or more elongated shapes. Let’s calculate a summary of statistics for these features across different categories.\n",
    "\n",
    "Group the DataFrame by `'category'` and then use Pandas' `.agg` to aggregate the mean, standard deviation, minimum, and maximum for both `'bb_width'`, `'bb_height'`, and `'bb_area'`. This will allow us to see if any categories tend to have larger areas, more elongated shapes, or greater variability in these dimensions."
   ]
  },
  {
   "cell_type": "code",
   "execution_count": null,
   "id": "86e19610",
   "metadata": {
    "deletable": false,
    "nbgrader": {
     "cell_type": "code",
     "checksum": "daf71832d016b3d90a0a26152e556049",
     "grade": true,
     "grade_id": "cell-685d513409de4e51",
     "locked": false,
     "points": 0,
     "schema_version": 3,
     "solution": true,
     "task": false
    }
   },
   "outputs": [],
   "source": [
    "# Set the number of decimals displayed to 2\n",
    "pd.set_option(\"display.precision\", 2)\n",
    "\n",
    "# YOUR CODE HERE"
   ]
  },
  {
   "cell_type": "markdown",
   "id": "c64c86ee",
   "metadata": {
    "deletable": false,
    "editable": false,
    "nbgrader": {
     "cell_type": "markdown",
     "checksum": "577b093f33d54edc3178f6c5b8b9b8f7",
     "grade": false,
     "grade_id": "cell-16eacbb2d9c05972",
     "locked": true,
     "schema_version": 3,
     "solution": false,
     "task": false
    }
   },
   "source": [
    "**Q10. Do you see any interesting patterns in this table? Would any of these features be good indicators for specific categories?**"
   ]
  },
  {
   "cell_type": "markdown",
   "id": "bd180c51-43d9-42ea-a2a0-095bd0403f8a",
   "metadata": {
    "deletable": false,
    "nbgrader": {
     "cell_type": "markdown",
     "checksum": "ebaf45016aa4d0772673ec467063d12a",
     "grade": true,
     "grade_id": "cell-428433aad422b1e8",
     "locked": false,
     "points": 0,
     "schema_version": 3,
     "solution": true,
     "task": false
    }
   },
   "source": [
    "*Your answer goes here.*"
   ]
  },
  {
   "cell_type": "markdown",
   "id": "f0257cf5",
   "metadata": {
    "deletable": false,
    "editable": false,
    "nbgrader": {
     "cell_type": "markdown",
     "checksum": "4ac5b3a491b591a288fea9f2587437e7",
     "grade": false,
     "grade_id": "cell-4df7fb9ab3af569d",
     "locked": true,
     "schema_version": 3,
     "solution": false,
     "task": false
    }
   },
   "source": [
    "### Plotting bounding box widths\n",
    "\n",
    "After looking at the statistics above, one of the possible things to investigate further is how the width of the bounding boxes is distributed for each category. The plot below shows the distribution of bounding box widths across different cell categories. Each category is represented by a different color. By setting `common_norm=False`, we visualize the relative proportion of each bounding box width within each category, which allows us to compare the spread of widths directly, regardless of how many cells exist for each category."
   ]
  },
  {
   "cell_type": "code",
   "execution_count": null,
   "id": "e02f89a2",
   "metadata": {
    "deletable": false,
    "editable": false,
    "nbgrader": {
     "cell_type": "code",
     "checksum": "0d35b6d3755697fe4247404e51bfda03",
     "grade": false,
     "grade_id": "cell-ff3db07643ab185f",
     "locked": true,
     "schema_version": 3,
     "solution": false,
     "task": false
    }
   },
   "outputs": [],
   "source": [
    "sns.kdeplot(data=df_train_merged, x='bb.width', hue='category', common_norm=False, fill=True)\n",
    "plt.title('Bounding Box Widths')\n",
    "plt.show()"
   ]
  },
  {
   "cell_type": "markdown",
   "id": "315c64d3",
   "metadata": {
    "deletable": false,
    "editable": false,
    "nbgrader": {
     "cell_type": "markdown",
     "checksum": "4bbb3e99a6bcfc92aa1332e9a5209b21",
     "grade": false,
     "grade_id": "cell-031d963469cff90a",
     "locked": true,
     "schema_version": 3,
     "solution": false,
     "task": false
    }
   },
   "source": [
    "From this plot, we can observe that bounding box widths for red blood cells tend to be between 70 and 150 pixels, indicating that red blood cells are generally smaller in width than other cell types. This difference in bounding box width distributions could mean this would be a useful feature when distinguishing the different cell categories.\n",
    "\n",
    "***Ultimately, to answers original question of automated cell labeling for this data set, we'd like find features that can be used to predict if a cell is healthy or not. The less overlap there is between the plotted distributions for the different cell categories, the better that feature is at distinguishing between these categories.***"
   ]
  },
  {
   "cell_type": "markdown",
   "id": "262de439",
   "metadata": {
    "deletable": false,
    "editable": false,
    "nbgrader": {
     "cell_type": "markdown",
     "checksum": "1cbd19db4cb99bd9b26360eb602adaa5",
     "grade": false,
     "grade_id": "cell-b8cca1db1d1706f3",
     "locked": true,
     "schema_version": 3,
     "solution": false,
     "task": false
    }
   },
   "source": [
    "# BONUS: Further Exploration \n",
    "\n",
    "As an additional challenge, you should try and construct some other new features that might be useful when distinguishing between the different cell categories. For this you may use the images of the different cells, the shapes of their bounding boxes, or any other part of the data you want to explore further. Note that the [Image](https://pillow.readthedocs.io/en/stable/reference/Image.html#the-image-class) class also has several functions to extract different types of information from an image. In general, your steps for this should be:\n",
    "\n",
    "1. Try to come up with a hypothesis of what might be a good distinguishing feature\n",
    "2. Write the code to compute this feature for the whole data set\n",
    "3. Try to compute or visually show if this is indeed a good distinguishing feature\n",
    "\n",
    "Remember; we are more interested in the way you get to an answer than the answer itself, so **include graphs, comments, and markdown cells that explain your choices**."
   ]
  },
  {
   "cell_type": "code",
   "execution_count": null,
   "id": "109d6595",
   "metadata": {},
   "outputs": [],
   "source": []
  }
 ],
 "metadata": {
  "kernelspec": {
   "display_name": "Python 3 (ipykernel)",
   "language": "python",
   "name": "python3"
  },
  "language_info": {
   "codemirror_mode": {
    "name": "ipython",
    "version": 3
   },
   "file_extension": ".py",
   "mimetype": "text/x-python",
   "name": "python",
   "nbconvert_exporter": "python",
   "pygments_lexer": "ipython3",
   "version": "3.12.3"
  }
 },
 "nbformat": 4,
 "nbformat_minor": 5
}
